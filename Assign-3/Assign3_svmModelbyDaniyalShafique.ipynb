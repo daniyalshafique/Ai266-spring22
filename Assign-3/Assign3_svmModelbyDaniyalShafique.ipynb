{
  "nbformat": 4,
  "nbformat_minor": 0,
  "metadata": {
    "colab": {
      "name": "Assign3.ipynb",
      "provenance": [],
      "collapsed_sections": []
    },
    "kernelspec": {
      "name": "python3",
      "display_name": "Python 3"
    },
    "language_info": {
      "name": "python"
    }
  },
  "cells": [
    {
      "cell_type": "code",
      "execution_count": null,
      "metadata": {
        "colab": {
          "base_uri": "https://localhost:8080/",
          "height": 380
        },
        "id": "b-wuiaWxXMwq",
        "outputId": "157a8486-3e79-44e3-feb5-385743e11635"
      },
      "outputs": [
        {
          "output_type": "error",
          "ename": "FileNotFoundError",
          "evalue": "ignored",
          "traceback": [
            "\u001b[0;31m---------------------------------------------------------------------------\u001b[0m",
            "\u001b[0;31mFileNotFoundError\u001b[0m                         Traceback (most recent call last)",
            "\u001b[0;32m<ipython-input-1-4ad24e5824c2>\u001b[0m in \u001b[0;36m<module>\u001b[0;34m()\u001b[0m\n\u001b[1;32m      2\u001b[0m \u001b[0;32mimport\u001b[0m \u001b[0mpandas\u001b[0m \u001b[0;32mas\u001b[0m \u001b[0mpd\u001b[0m\u001b[0;34m\u001b[0m\u001b[0;34m\u001b[0m\u001b[0m\n\u001b[1;32m      3\u001b[0m \u001b[0;32mimport\u001b[0m \u001b[0mnumpy\u001b[0m \u001b[0;32mas\u001b[0m \u001b[0mnp\u001b[0m\u001b[0;34m\u001b[0m\u001b[0;34m\u001b[0m\u001b[0m\n\u001b[0;32m----> 4\u001b[0;31m \u001b[0mtrainDF\u001b[0m \u001b[0;34m=\u001b[0m \u001b[0mpd\u001b[0m\u001b[0;34m.\u001b[0m\u001b[0mread_csv\u001b[0m\u001b[0;34m(\u001b[0m\u001b[0;34m'/content/sample_data/train.csv'\u001b[0m\u001b[0;34m)\u001b[0m\u001b[0;34m\u001b[0m\u001b[0;34m\u001b[0m\u001b[0m\n\u001b[0m\u001b[1;32m      5\u001b[0m \u001b[0mprint\u001b[0m\u001b[0;34m(\u001b[0m\u001b[0mtrainDF\u001b[0m\u001b[0;34m)\u001b[0m\u001b[0;34m\u001b[0m\u001b[0;34m\u001b[0m\u001b[0m\n",
            "\u001b[0;32m/usr/local/lib/python3.7/dist-packages/pandas/util/_decorators.py\u001b[0m in \u001b[0;36mwrapper\u001b[0;34m(*args, **kwargs)\u001b[0m\n\u001b[1;32m    309\u001b[0m                     \u001b[0mstacklevel\u001b[0m\u001b[0;34m=\u001b[0m\u001b[0mstacklevel\u001b[0m\u001b[0;34m,\u001b[0m\u001b[0;34m\u001b[0m\u001b[0;34m\u001b[0m\u001b[0m\n\u001b[1;32m    310\u001b[0m                 )\n\u001b[0;32m--> 311\u001b[0;31m             \u001b[0;32mreturn\u001b[0m \u001b[0mfunc\u001b[0m\u001b[0;34m(\u001b[0m\u001b[0;34m*\u001b[0m\u001b[0margs\u001b[0m\u001b[0;34m,\u001b[0m \u001b[0;34m**\u001b[0m\u001b[0mkwargs\u001b[0m\u001b[0;34m)\u001b[0m\u001b[0;34m\u001b[0m\u001b[0;34m\u001b[0m\u001b[0m\n\u001b[0m\u001b[1;32m    312\u001b[0m \u001b[0;34m\u001b[0m\u001b[0m\n\u001b[1;32m    313\u001b[0m         \u001b[0;32mreturn\u001b[0m \u001b[0mwrapper\u001b[0m\u001b[0;34m\u001b[0m\u001b[0;34m\u001b[0m\u001b[0m\n",
            "\u001b[0;32m/usr/local/lib/python3.7/dist-packages/pandas/io/parsers/readers.py\u001b[0m in \u001b[0;36mread_csv\u001b[0;34m(filepath_or_buffer, sep, delimiter, header, names, index_col, usecols, squeeze, prefix, mangle_dupe_cols, dtype, engine, converters, true_values, false_values, skipinitialspace, skiprows, skipfooter, nrows, na_values, keep_default_na, na_filter, verbose, skip_blank_lines, parse_dates, infer_datetime_format, keep_date_col, date_parser, dayfirst, cache_dates, iterator, chunksize, compression, thousands, decimal, lineterminator, quotechar, quoting, doublequote, escapechar, comment, encoding, encoding_errors, dialect, error_bad_lines, warn_bad_lines, on_bad_lines, delim_whitespace, low_memory, memory_map, float_precision, storage_options)\u001b[0m\n\u001b[1;32m    584\u001b[0m     \u001b[0mkwds\u001b[0m\u001b[0;34m.\u001b[0m\u001b[0mupdate\u001b[0m\u001b[0;34m(\u001b[0m\u001b[0mkwds_defaults\u001b[0m\u001b[0;34m)\u001b[0m\u001b[0;34m\u001b[0m\u001b[0;34m\u001b[0m\u001b[0m\n\u001b[1;32m    585\u001b[0m \u001b[0;34m\u001b[0m\u001b[0m\n\u001b[0;32m--> 586\u001b[0;31m     \u001b[0;32mreturn\u001b[0m \u001b[0m_read\u001b[0m\u001b[0;34m(\u001b[0m\u001b[0mfilepath_or_buffer\u001b[0m\u001b[0;34m,\u001b[0m \u001b[0mkwds\u001b[0m\u001b[0;34m)\u001b[0m\u001b[0;34m\u001b[0m\u001b[0;34m\u001b[0m\u001b[0m\n\u001b[0m\u001b[1;32m    587\u001b[0m \u001b[0;34m\u001b[0m\u001b[0m\n\u001b[1;32m    588\u001b[0m \u001b[0;34m\u001b[0m\u001b[0m\n",
            "\u001b[0;32m/usr/local/lib/python3.7/dist-packages/pandas/io/parsers/readers.py\u001b[0m in \u001b[0;36m_read\u001b[0;34m(filepath_or_buffer, kwds)\u001b[0m\n\u001b[1;32m    480\u001b[0m \u001b[0;34m\u001b[0m\u001b[0m\n\u001b[1;32m    481\u001b[0m     \u001b[0;31m# Create the parser.\u001b[0m\u001b[0;34m\u001b[0m\u001b[0;34m\u001b[0m\u001b[0;34m\u001b[0m\u001b[0m\n\u001b[0;32m--> 482\u001b[0;31m     \u001b[0mparser\u001b[0m \u001b[0;34m=\u001b[0m \u001b[0mTextFileReader\u001b[0m\u001b[0;34m(\u001b[0m\u001b[0mfilepath_or_buffer\u001b[0m\u001b[0;34m,\u001b[0m \u001b[0;34m**\u001b[0m\u001b[0mkwds\u001b[0m\u001b[0;34m)\u001b[0m\u001b[0;34m\u001b[0m\u001b[0;34m\u001b[0m\u001b[0m\n\u001b[0m\u001b[1;32m    483\u001b[0m \u001b[0;34m\u001b[0m\u001b[0m\n\u001b[1;32m    484\u001b[0m     \u001b[0;32mif\u001b[0m \u001b[0mchunksize\u001b[0m \u001b[0;32mor\u001b[0m \u001b[0miterator\u001b[0m\u001b[0;34m:\u001b[0m\u001b[0;34m\u001b[0m\u001b[0;34m\u001b[0m\u001b[0m\n",
            "\u001b[0;32m/usr/local/lib/python3.7/dist-packages/pandas/io/parsers/readers.py\u001b[0m in \u001b[0;36m__init__\u001b[0;34m(self, f, engine, **kwds)\u001b[0m\n\u001b[1;32m    809\u001b[0m             \u001b[0mself\u001b[0m\u001b[0;34m.\u001b[0m\u001b[0moptions\u001b[0m\u001b[0;34m[\u001b[0m\u001b[0;34m\"has_index_names\"\u001b[0m\u001b[0;34m]\u001b[0m \u001b[0;34m=\u001b[0m \u001b[0mkwds\u001b[0m\u001b[0;34m[\u001b[0m\u001b[0;34m\"has_index_names\"\u001b[0m\u001b[0;34m]\u001b[0m\u001b[0;34m\u001b[0m\u001b[0;34m\u001b[0m\u001b[0m\n\u001b[1;32m    810\u001b[0m \u001b[0;34m\u001b[0m\u001b[0m\n\u001b[0;32m--> 811\u001b[0;31m         \u001b[0mself\u001b[0m\u001b[0;34m.\u001b[0m\u001b[0m_engine\u001b[0m \u001b[0;34m=\u001b[0m \u001b[0mself\u001b[0m\u001b[0;34m.\u001b[0m\u001b[0m_make_engine\u001b[0m\u001b[0;34m(\u001b[0m\u001b[0mself\u001b[0m\u001b[0;34m.\u001b[0m\u001b[0mengine\u001b[0m\u001b[0;34m)\u001b[0m\u001b[0;34m\u001b[0m\u001b[0;34m\u001b[0m\u001b[0m\n\u001b[0m\u001b[1;32m    812\u001b[0m \u001b[0;34m\u001b[0m\u001b[0m\n\u001b[1;32m    813\u001b[0m     \u001b[0;32mdef\u001b[0m \u001b[0mclose\u001b[0m\u001b[0;34m(\u001b[0m\u001b[0mself\u001b[0m\u001b[0;34m)\u001b[0m\u001b[0;34m:\u001b[0m\u001b[0;34m\u001b[0m\u001b[0;34m\u001b[0m\u001b[0m\n",
            "\u001b[0;32m/usr/local/lib/python3.7/dist-packages/pandas/io/parsers/readers.py\u001b[0m in \u001b[0;36m_make_engine\u001b[0;34m(self, engine)\u001b[0m\n\u001b[1;32m   1038\u001b[0m             )\n\u001b[1;32m   1039\u001b[0m         \u001b[0;31m# error: Too many arguments for \"ParserBase\"\u001b[0m\u001b[0;34m\u001b[0m\u001b[0;34m\u001b[0m\u001b[0;34m\u001b[0m\u001b[0m\n\u001b[0;32m-> 1040\u001b[0;31m         \u001b[0;32mreturn\u001b[0m \u001b[0mmapping\u001b[0m\u001b[0;34m[\u001b[0m\u001b[0mengine\u001b[0m\u001b[0;34m]\u001b[0m\u001b[0;34m(\u001b[0m\u001b[0mself\u001b[0m\u001b[0;34m.\u001b[0m\u001b[0mf\u001b[0m\u001b[0;34m,\u001b[0m \u001b[0;34m**\u001b[0m\u001b[0mself\u001b[0m\u001b[0;34m.\u001b[0m\u001b[0moptions\u001b[0m\u001b[0;34m)\u001b[0m  \u001b[0;31m# type: ignore[call-arg]\u001b[0m\u001b[0;34m\u001b[0m\u001b[0;34m\u001b[0m\u001b[0m\n\u001b[0m\u001b[1;32m   1041\u001b[0m \u001b[0;34m\u001b[0m\u001b[0m\n\u001b[1;32m   1042\u001b[0m     \u001b[0;32mdef\u001b[0m \u001b[0m_failover_to_python\u001b[0m\u001b[0;34m(\u001b[0m\u001b[0mself\u001b[0m\u001b[0;34m)\u001b[0m\u001b[0;34m:\u001b[0m\u001b[0;34m\u001b[0m\u001b[0;34m\u001b[0m\u001b[0m\n",
            "\u001b[0;32m/usr/local/lib/python3.7/dist-packages/pandas/io/parsers/c_parser_wrapper.py\u001b[0m in \u001b[0;36m__init__\u001b[0;34m(self, src, **kwds)\u001b[0m\n\u001b[1;32m     49\u001b[0m \u001b[0;34m\u001b[0m\u001b[0m\n\u001b[1;32m     50\u001b[0m         \u001b[0;31m# open handles\u001b[0m\u001b[0;34m\u001b[0m\u001b[0;34m\u001b[0m\u001b[0;34m\u001b[0m\u001b[0m\n\u001b[0;32m---> 51\u001b[0;31m         \u001b[0mself\u001b[0m\u001b[0;34m.\u001b[0m\u001b[0m_open_handles\u001b[0m\u001b[0;34m(\u001b[0m\u001b[0msrc\u001b[0m\u001b[0;34m,\u001b[0m \u001b[0mkwds\u001b[0m\u001b[0;34m)\u001b[0m\u001b[0;34m\u001b[0m\u001b[0;34m\u001b[0m\u001b[0m\n\u001b[0m\u001b[1;32m     52\u001b[0m         \u001b[0;32massert\u001b[0m \u001b[0mself\u001b[0m\u001b[0;34m.\u001b[0m\u001b[0mhandles\u001b[0m \u001b[0;32mis\u001b[0m \u001b[0;32mnot\u001b[0m \u001b[0;32mNone\u001b[0m\u001b[0;34m\u001b[0m\u001b[0;34m\u001b[0m\u001b[0m\n\u001b[1;32m     53\u001b[0m \u001b[0;34m\u001b[0m\u001b[0m\n",
            "\u001b[0;32m/usr/local/lib/python3.7/dist-packages/pandas/io/parsers/base_parser.py\u001b[0m in \u001b[0;36m_open_handles\u001b[0;34m(self, src, kwds)\u001b[0m\n\u001b[1;32m    227\u001b[0m             \u001b[0mmemory_map\u001b[0m\u001b[0;34m=\u001b[0m\u001b[0mkwds\u001b[0m\u001b[0;34m.\u001b[0m\u001b[0mget\u001b[0m\u001b[0;34m(\u001b[0m\u001b[0;34m\"memory_map\"\u001b[0m\u001b[0;34m,\u001b[0m \u001b[0;32mFalse\u001b[0m\u001b[0;34m)\u001b[0m\u001b[0;34m,\u001b[0m\u001b[0;34m\u001b[0m\u001b[0;34m\u001b[0m\u001b[0m\n\u001b[1;32m    228\u001b[0m             \u001b[0mstorage_options\u001b[0m\u001b[0;34m=\u001b[0m\u001b[0mkwds\u001b[0m\u001b[0;34m.\u001b[0m\u001b[0mget\u001b[0m\u001b[0;34m(\u001b[0m\u001b[0;34m\"storage_options\"\u001b[0m\u001b[0;34m,\u001b[0m \u001b[0;32mNone\u001b[0m\u001b[0;34m)\u001b[0m\u001b[0;34m,\u001b[0m\u001b[0;34m\u001b[0m\u001b[0;34m\u001b[0m\u001b[0m\n\u001b[0;32m--> 229\u001b[0;31m             \u001b[0merrors\u001b[0m\u001b[0;34m=\u001b[0m\u001b[0mkwds\u001b[0m\u001b[0;34m.\u001b[0m\u001b[0mget\u001b[0m\u001b[0;34m(\u001b[0m\u001b[0;34m\"encoding_errors\"\u001b[0m\u001b[0;34m,\u001b[0m \u001b[0;34m\"strict\"\u001b[0m\u001b[0;34m)\u001b[0m\u001b[0;34m,\u001b[0m\u001b[0;34m\u001b[0m\u001b[0;34m\u001b[0m\u001b[0m\n\u001b[0m\u001b[1;32m    230\u001b[0m         )\n\u001b[1;32m    231\u001b[0m \u001b[0;34m\u001b[0m\u001b[0m\n",
            "\u001b[0;32m/usr/local/lib/python3.7/dist-packages/pandas/io/common.py\u001b[0m in \u001b[0;36mget_handle\u001b[0;34m(path_or_buf, mode, encoding, compression, memory_map, is_text, errors, storage_options)\u001b[0m\n\u001b[1;32m    705\u001b[0m                 \u001b[0mencoding\u001b[0m\u001b[0;34m=\u001b[0m\u001b[0mioargs\u001b[0m\u001b[0;34m.\u001b[0m\u001b[0mencoding\u001b[0m\u001b[0;34m,\u001b[0m\u001b[0;34m\u001b[0m\u001b[0;34m\u001b[0m\u001b[0m\n\u001b[1;32m    706\u001b[0m                 \u001b[0merrors\u001b[0m\u001b[0;34m=\u001b[0m\u001b[0merrors\u001b[0m\u001b[0;34m,\u001b[0m\u001b[0;34m\u001b[0m\u001b[0;34m\u001b[0m\u001b[0m\n\u001b[0;32m--> 707\u001b[0;31m                 \u001b[0mnewline\u001b[0m\u001b[0;34m=\u001b[0m\u001b[0;34m\"\"\u001b[0m\u001b[0;34m,\u001b[0m\u001b[0;34m\u001b[0m\u001b[0;34m\u001b[0m\u001b[0m\n\u001b[0m\u001b[1;32m    708\u001b[0m             )\n\u001b[1;32m    709\u001b[0m         \u001b[0;32melse\u001b[0m\u001b[0;34m:\u001b[0m\u001b[0;34m\u001b[0m\u001b[0;34m\u001b[0m\u001b[0m\n",
            "\u001b[0;31mFileNotFoundError\u001b[0m: [Errno 2] No such file or directory: '/content/sample_data/train.csv'"
          ]
        }
      ],
      "source": [
        "#Import packages\n",
        "import pandas as pd\n",
        "import numpy as np\n",
        "trainDF = pd.read_csv('/content/sample_data/train.csv')\n",
        "print(trainDF)"
      ]
    },
    {
      "cell_type": "code",
      "source": [
        "#Apply data cleaning to dataframe\n",
        "trainDF.drop_duplicates(subset=\"f_27\", keep ='first', inplace = True)\n",
        "print(trainDF)"
      ],
      "metadata": {
        "colab": {
          "base_uri": "https://localhost:8080/"
        },
        "id": "gADXBEZBhgRW",
        "outputId": "ad6da726-555b-4c71-b058-7831527ddf9e"
      },
      "execution_count": null,
      "outputs": [
        {
          "output_type": "stream",
          "name": "stdout",
          "text": [
            "            id      f_00      f_01      f_02      f_03      f_04      f_05  \\\n",
            "0            0 -1.373246  0.238887 -0.243376  0.567405 -0.647715  0.839326   \n",
            "1            1  1.697021 -1.710322 -2.230332 -0.545661  1.113173 -1.552175   \n",
            "2            2  1.681726  0.616746 -1.027689  0.810492 -0.609086  0.113965   \n",
            "3            3 -0.118172 -0.587835 -0.804638  2.086822  0.371005 -0.128831   \n",
            "4            4  1.148481 -0.176567 -0.664871 -1.101343  0.467875  0.500117   \n",
            "...        ...       ...       ...       ...       ...       ...       ...   \n",
            "681062  681062 -2.173834 -1.236678 -0.310864 -0.058128 -0.896226  0.396902   \n",
            "681063  681063 -0.844544  0.798331  0.731199  0.581912  1.503108  2.018794   \n",
            "681064  681064  0.472324  0.626092  1.427110  1.276157 -1.591023 -1.417238   \n",
            "681065  681065 -1.757022  0.406605 -0.579937 -0.132931 -0.872811 -0.914280   \n",
            "681066  681066 -0.428649  0.228069  1.230814 -1.053208 -0.207373  0.291771   \n",
            "\n",
            "            f_06  f_07  f_08  ...      f_22      f_23      f_24      f_25  \\\n",
            "0       0.113133     1     5  ... -2.540739  0.766952 -2.730628 -0.208177   \n",
            "1       0.447825     1     3  ...  2.278315 -0.633658 -1.217077 -3.782194   \n",
            "2      -0.708660     1     0  ... -1.385775 -0.520558 -0.009121  2.788536   \n",
            "3      -0.282575     3     2  ...  0.572594 -1.653213  1.686035 -2.533098   \n",
            "4       0.407515     3     3  ... -3.912929 -1.430366  2.127649 -3.306784   \n",
            "...          ...   ...   ...  ...       ...       ...       ...       ...   \n",
            "681062 -1.511513     1     1  ...  3.569941 -3.567586  3.975714  2.325265   \n",
            "681063 -0.923541     0     3  ...  1.785809  0.486590 -2.650292 -2.514453   \n",
            "681064  1.158767     0     0  ... -4.545854  2.328950 -0.314002 -0.339746   \n",
            "681065 -0.063521     0     1  ... -0.883172 -1.806362  4.171756 -1.817025   \n",
            "681066  0.355206     0     0  ...       NaN       NaN       NaN       NaN   \n",
            "\n",
            "            f_26        f_27        f_28  f_29  f_30  target  \n",
            "0       1.363402  ABABDADBAB   67.609153   0.0   0.0     0.0  \n",
            "1      -0.058316  ACACCADCEB  377.096415   0.0   0.0     1.0  \n",
            "2      -3.703488  AAAEABCKAD -195.599702   0.0   2.0     1.0  \n",
            "3      -0.608601  BDBBAACBCB  210.826205   0.0   0.0     1.0  \n",
            "4       4.371371  BDBCBBCHFE -217.211798   0.0   1.0     1.0  \n",
            "...          ...         ...         ...   ...   ...     ...  \n",
            "681062  2.382288  BDBEBBCNDE  169.182422   0.0   0.0     0.0  \n",
            "681063  1.218321  ABBAFACRBB   91.667999   0.0   2.0     1.0  \n",
            "681064  4.416123  ACBCBACQGC   35.212845   0.0   0.0     0.0  \n",
            "681065  0.546982  BAAACBEABF -320.721084   0.0   0.0     1.0  \n",
            "681066       NaN         NaN         NaN   NaN   NaN     NaN  \n",
            "\n",
            "[584141 rows x 33 columns]\n"
          ]
        }
      ]
    },
    {
      "cell_type": "code",
      "source": [
        ""
      ],
      "metadata": {
        "id": "JW5zWtg7k4K8"
      },
      "execution_count": null,
      "outputs": []
    },
    {
      "cell_type": "code",
      "source": [
        "# apply second data cleaning\n",
        "missing = trainDF.isnull()\n",
        "print(missing)\n"
      ],
      "metadata": {
        "colab": {
          "base_uri": "https://localhost:8080/"
        },
        "id": "4D7_P05WlZCa",
        "outputId": "2ebe489a-4de8-4837-c470-fa122e2916f0"
      },
      "execution_count": null,
      "outputs": [
        {
          "output_type": "stream",
          "name": "stdout",
          "text": [
            "           id   f_00   f_01   f_02   f_03   f_04   f_05   f_06   f_07   f_08  \\\n",
            "0       False  False  False  False  False  False  False  False  False  False   \n",
            "1       False  False  False  False  False  False  False  False  False  False   \n",
            "2       False  False  False  False  False  False  False  False  False  False   \n",
            "3       False  False  False  False  False  False  False  False  False  False   \n",
            "4       False  False  False  False  False  False  False  False  False  False   \n",
            "...       ...    ...    ...    ...    ...    ...    ...    ...    ...    ...   \n",
            "681062  False  False  False  False  False  False  False  False  False  False   \n",
            "681063  False  False  False  False  False  False  False  False  False  False   \n",
            "681064  False  False  False  False  False  False  False  False  False  False   \n",
            "681065  False  False  False  False  False  False  False  False  False  False   \n",
            "681066  False  False  False  False  False  False  False  False  False  False   \n",
            "\n",
            "        ...   f_22   f_23   f_24   f_25   f_26   f_27   f_28   f_29   f_30  \\\n",
            "0       ...  False  False  False  False  False  False  False  False  False   \n",
            "1       ...  False  False  False  False  False  False  False  False  False   \n",
            "2       ...  False  False  False  False  False  False  False  False  False   \n",
            "3       ...  False  False  False  False  False  False  False  False  False   \n",
            "4       ...  False  False  False  False  False  False  False  False  False   \n",
            "...     ...    ...    ...    ...    ...    ...    ...    ...    ...    ...   \n",
            "681062  ...  False  False  False  False  False  False  False  False  False   \n",
            "681063  ...  False  False  False  False  False  False  False  False  False   \n",
            "681064  ...  False  False  False  False  False  False  False  False  False   \n",
            "681065  ...  False  False  False  False  False  False  False  False  False   \n",
            "681066  ...   True   True   True   True   True   True   True   True   True   \n",
            "\n",
            "        target  \n",
            "0        False  \n",
            "1        False  \n",
            "2        False  \n",
            "3        False  \n",
            "4        False  \n",
            "...        ...  \n",
            "681062   False  \n",
            "681063   False  \n",
            "681064   False  \n",
            "681065   False  \n",
            "681066    True  \n",
            "\n",
            "[584141 rows x 33 columns]\n"
          ]
        }
      ]
    },
    {
      "cell_type": "code",
      "source": [
        "trainDF = trainDF.dropna(axis=0)\n",
        "print(trainDF)"
      ],
      "metadata": {
        "colab": {
          "base_uri": "https://localhost:8080/"
        },
        "id": "IyJmglZVl31C",
        "outputId": "ef14e755-ee8b-49f8-a427-aaae8ba5eedc"
      },
      "execution_count": null,
      "outputs": [
        {
          "output_type": "stream",
          "name": "stdout",
          "text": [
            "            id      f_00      f_01      f_02      f_03      f_04      f_05  \\\n",
            "0            0 -1.373246  0.238887 -0.243376  0.567405 -0.647715  0.839326   \n",
            "1            1  1.697021 -1.710322 -2.230332 -0.545661  1.113173 -1.552175   \n",
            "2            2  1.681726  0.616746 -1.027689  0.810492 -0.609086  0.113965   \n",
            "3            3 -0.118172 -0.587835 -0.804638  2.086822  0.371005 -0.128831   \n",
            "4            4  1.148481 -0.176567 -0.664871 -1.101343  0.467875  0.500117   \n",
            "...        ...       ...       ...       ...       ...       ...       ...   \n",
            "681060  681060 -0.294064  0.612207 -1.545836 -0.001534 -0.265153  0.268714   \n",
            "681062  681062 -2.173834 -1.236678 -0.310864 -0.058128 -0.896226  0.396902   \n",
            "681063  681063 -0.844544  0.798331  0.731199  0.581912  1.503108  2.018794   \n",
            "681064  681064  0.472324  0.626092  1.427110  1.276157 -1.591023 -1.417238   \n",
            "681065  681065 -1.757022  0.406605 -0.579937 -0.132931 -0.872811 -0.914280   \n",
            "\n",
            "            f_06  f_07  f_08  ...      f_22      f_23      f_24      f_25  \\\n",
            "0       0.113133     1     5  ... -2.540739  0.766952 -2.730628 -0.208177   \n",
            "1       0.447825     1     3  ...  2.278315 -0.633658 -1.217077 -3.782194   \n",
            "2      -0.708660     1     0  ... -1.385775 -0.520558 -0.009121  2.788536   \n",
            "3      -0.282575     3     2  ...  0.572594 -1.653213  1.686035 -2.533098   \n",
            "4       0.407515     3     3  ... -3.912929 -1.430366  2.127649 -3.306784   \n",
            "...          ...   ...   ...  ...       ...       ...       ...       ...   \n",
            "681060 -0.212681     0     1  ...  1.611183  0.935198 -2.556686  4.184449   \n",
            "681062 -1.511513     1     1  ...  3.569941 -3.567586  3.975714  2.325265   \n",
            "681063 -0.923541     0     3  ...  1.785809  0.486590 -2.650292 -2.514453   \n",
            "681064  1.158767     0     0  ... -4.545854  2.328950 -0.314002 -0.339746   \n",
            "681065 -0.063521     0     1  ... -0.883172 -1.806362  4.171756 -1.817025   \n",
            "\n",
            "            f_26        f_27        f_28  f_29  f_30  target  \n",
            "0       1.363402  ABABDADBAB   67.609153   0.0   0.0     0.0  \n",
            "1      -0.058316  ACACCADCEB  377.096415   0.0   0.0     1.0  \n",
            "2      -3.703488  AAAEABCKAD -195.599702   0.0   2.0     1.0  \n",
            "3      -0.608601  BDBBAACBCB  210.826205   0.0   0.0     1.0  \n",
            "4       4.371371  BDBCBBCHFE -217.211798   0.0   1.0     1.0  \n",
            "...          ...         ...         ...   ...   ...     ...  \n",
            "681060  0.583815  ABAEABENAA   39.442582   0.0   1.0     1.0  \n",
            "681062  2.382288  BDBEBBCNDE  169.182422   0.0   0.0     0.0  \n",
            "681063  1.218321  ABBAFACRBB   91.667999   0.0   2.0     1.0  \n",
            "681064  4.416123  ACBCBACQGC   35.212845   0.0   0.0     0.0  \n",
            "681065  0.546982  BAAACBEABF -320.721084   0.0   0.0     1.0  \n",
            "\n",
            "[584140 rows x 33 columns]\n"
          ]
        }
      ]
    },
    {
      "cell_type": "code",
      "source": [
        "from sklearn import datasets\n",
        "svmModel = datasets.\n",
        "print(svmModel.data[5])"
      ],
      "metadata": {
        "colab": {
          "base_uri": "https://localhost:8080/"
        },
        "id": "6tXd0Ly5qjUQ",
        "outputId": "a4c5009d-143c-4ee2-abcb-176459833645"
      },
      "execution_count": null,
      "outputs": [
        {
          "output_type": "stream",
          "name": "stdout",
          "text": [
            "[1.245e+01 1.570e+01 8.257e+01 4.771e+02 1.278e-01 1.700e-01 1.578e-01\n",
            " 8.089e-02 2.087e-01 7.613e-02 3.345e-01 8.902e-01 2.217e+00 2.719e+01\n",
            " 7.510e-03 3.345e-02 3.672e-02 1.137e-02 2.165e-02 5.082e-03 1.547e+01\n",
            " 2.375e+01 1.034e+02 7.416e+02 1.791e-01 5.249e-01 5.355e-01 1.741e-01\n",
            " 3.985e-01 1.244e-01]\n"
          ]
        }
      ]
    },
    {
      "cell_type": "code",
      "source": [
        "print(svmModel.data.shape)\n",
        "print(svmModel.target)\n",
        "\n"
      ],
      "metadata": {
        "colab": {
          "base_uri": "https://localhost:8080/"
        },
        "id": "QtDI-F9FtCgv",
        "outputId": "a8ae7ff5-4aac-497b-b3b5-c40255f577c9"
      },
      "execution_count": null,
      "outputs": [
        {
          "output_type": "stream",
          "name": "stdout",
          "text": [
            "(569, 30)\n",
            "[0 0 0 0 0 0 0 0 0 0 0 0 0 0 0 0 0 0 0 1 1 1 0 0 0 0 0 0 0 0 0 0 0 0 0 0 0\n",
            " 1 0 0 0 0 0 0 0 0 1 0 1 1 1 1 1 0 0 1 0 0 1 1 1 1 0 1 0 0 1 1 1 1 0 1 0 0\n",
            " 1 0 1 0 0 1 1 1 0 0 1 0 0 0 1 1 1 0 1 1 0 0 1 1 1 0 0 1 1 1 1 0 1 1 0 1 1\n",
            " 1 1 1 1 1 1 0 0 0 1 0 0 1 1 1 0 0 1 0 1 0 0 1 0 0 1 1 0 1 1 0 1 1 1 1 0 1\n",
            " 1 1 1 1 1 1 1 1 0 1 1 1 1 0 0 1 0 1 1 0 0 1 1 0 0 1 1 1 1 0 1 1 0 0 0 1 0\n",
            " 1 0 1 1 1 0 1 1 0 0 1 0 0 0 0 1 0 0 0 1 0 1 0 1 1 0 1 0 0 0 0 1 1 0 0 1 1\n",
            " 1 0 1 1 1 1 1 0 0 1 1 0 1 1 0 0 1 0 1 1 1 1 0 1 1 1 1 1 0 1 0 0 0 0 0 0 0\n",
            " 0 0 0 0 0 0 0 1 1 1 1 1 1 0 1 0 1 1 0 1 1 0 1 0 0 1 1 1 1 1 1 1 1 1 1 1 1\n",
            " 1 0 1 1 0 1 0 1 1 1 1 1 1 1 1 1 1 1 1 1 1 0 1 1 1 0 1 0 1 1 1 1 0 0 0 1 1\n",
            " 1 1 0 1 0 1 0 1 1 1 0 1 1 1 1 1 1 1 0 0 0 1 1 1 1 1 1 1 1 1 1 1 0 0 1 0 0\n",
            " 0 1 0 0 1 1 1 1 1 0 1 1 1 1 1 0 1 1 1 0 1 1 0 0 1 1 1 1 1 1 0 1 1 1 1 1 1\n",
            " 1 0 1 1 1 1 1 0 1 1 0 1 1 1 1 1 1 1 1 1 1 1 1 0 1 0 0 1 0 1 1 1 1 1 0 1 1\n",
            " 0 1 0 1 1 0 1 0 1 1 1 1 1 1 1 1 0 0 1 1 1 1 1 1 0 1 1 1 1 1 1 1 1 1 1 0 1\n",
            " 1 1 1 1 1 1 0 1 0 1 1 0 1 1 1 1 1 0 0 1 0 1 0 1 1 1 1 1 0 1 1 0 1 0 1 0 0\n",
            " 1 1 1 0 1 1 1 1 1 1 1 1 1 1 1 0 1 0 0 1 1 1 1 1 1 1 1 1 1 1 1 1 1 1 1 1 1\n",
            " 1 1 1 1 1 1 1 0 0 0 0 0 0 1]\n"
          ]
        }
      ]
    },
    {
      "cell_type": "code",
      "source": [
        "from sklearn.model_selection import train_test_split\n",
        " \n",
        "svmModel = datasets.load_breast_cancer()\n",
        " \n",
        "X_train, X_test, y_train, y_test = train_test_split(svmModel.data, svmModel.target, test_size=0.4,random_state=109)"
      ],
      "metadata": {
        "id": "LJmSW1K0tpyJ"
      },
      "execution_count": null,
      "outputs": []
    },
    {
      "cell_type": "code",
      "source": [
        "from sklearn import svm\n",
        "#make classifier\n",
        "cre = svm.SVC(kernel=\"linear\")\n",
        "#train model\n",
        "cre.fit(X_train,y_train)\n",
        "#predict the response\n",
        "pred = cre.predict(X_test)"
      ],
      "metadata": {
        "id": "32Hvl9tcuT8-"
      },
      "execution_count": null,
      "outputs": []
    },
    {
      "cell_type": "code",
      "source": [
        "from sklearn import metrics\n",
        "#check accuracy\n",
        "print(\"accuracy:\", metrics.accuracy_score(y_test,y_pred=pred))"
      ],
      "metadata": {
        "colab": {
          "base_uri": "https://localhost:8080/"
        },
        "id": "feA3d4leunI5",
        "outputId": "6326d8f0-1224-4405-add9-8e6f323b5358"
      },
      "execution_count": null,
      "outputs": [
        {
          "output_type": "stream",
          "name": "stdout",
          "text": [
            "accuracy: 0.9649122807017544\n"
          ]
        }
      ]
    },
    {
      "cell_type": "code",
      "source": [
        "print(trainDF)"
      ],
      "metadata": {
        "colab": {
          "base_uri": "https://localhost:8080/"
        },
        "id": "FsnDuKQVvOms",
        "outputId": "3c802f74-40d5-45d8-d420-5f74cf4b4435"
      },
      "execution_count": null,
      "outputs": [
        {
          "output_type": "stream",
          "name": "stdout",
          "text": [
            "            id      f_00      f_01      f_02      f_03      f_04      f_05  \\\n",
            "0            0 -1.373246  0.238887 -0.243376  0.567405 -0.647715  0.839326   \n",
            "1            1  1.697021 -1.710322 -2.230332 -0.545661  1.113173 -1.552175   \n",
            "2            2  1.681726  0.616746 -1.027689  0.810492 -0.609086  0.113965   \n",
            "3            3 -0.118172 -0.587835 -0.804638  2.086822  0.371005 -0.128831   \n",
            "4            4  1.148481 -0.176567 -0.664871 -1.101343  0.467875  0.500117   \n",
            "...        ...       ...       ...       ...       ...       ...       ...   \n",
            "681060  681060 -0.294064  0.612207 -1.545836 -0.001534 -0.265153  0.268714   \n",
            "681062  681062 -2.173834 -1.236678 -0.310864 -0.058128 -0.896226  0.396902   \n",
            "681063  681063 -0.844544  0.798331  0.731199  0.581912  1.503108  2.018794   \n",
            "681064  681064  0.472324  0.626092  1.427110  1.276157 -1.591023 -1.417238   \n",
            "681065  681065 -1.757022  0.406605 -0.579937 -0.132931 -0.872811 -0.914280   \n",
            "\n",
            "            f_06  f_07  f_08  ...      f_22      f_23      f_24      f_25  \\\n",
            "0       0.113133     1     5  ... -2.540739  0.766952 -2.730628 -0.208177   \n",
            "1       0.447825     1     3  ...  2.278315 -0.633658 -1.217077 -3.782194   \n",
            "2      -0.708660     1     0  ... -1.385775 -0.520558 -0.009121  2.788536   \n",
            "3      -0.282575     3     2  ...  0.572594 -1.653213  1.686035 -2.533098   \n",
            "4       0.407515     3     3  ... -3.912929 -1.430366  2.127649 -3.306784   \n",
            "...          ...   ...   ...  ...       ...       ...       ...       ...   \n",
            "681060 -0.212681     0     1  ...  1.611183  0.935198 -2.556686  4.184449   \n",
            "681062 -1.511513     1     1  ...  3.569941 -3.567586  3.975714  2.325265   \n",
            "681063 -0.923541     0     3  ...  1.785809  0.486590 -2.650292 -2.514453   \n",
            "681064  1.158767     0     0  ... -4.545854  2.328950 -0.314002 -0.339746   \n",
            "681065 -0.063521     0     1  ... -0.883172 -1.806362  4.171756 -1.817025   \n",
            "\n",
            "            f_26        f_27        f_28  f_29  f_30  target  \n",
            "0       1.363402  ABABDADBAB   67.609153   0.0   0.0     0.0  \n",
            "1      -0.058316  ACACCADCEB  377.096415   0.0   0.0     1.0  \n",
            "2      -3.703488  AAAEABCKAD -195.599702   0.0   2.0     1.0  \n",
            "3      -0.608601  BDBBAACBCB  210.826205   0.0   0.0     1.0  \n",
            "4       4.371371  BDBCBBCHFE -217.211798   0.0   1.0     1.0  \n",
            "...          ...         ...         ...   ...   ...     ...  \n",
            "681060  0.583815  ABAEABENAA   39.442582   0.0   1.0     1.0  \n",
            "681062  2.382288  BDBEBBCNDE  169.182422   0.0   0.0     0.0  \n",
            "681063  1.218321  ABBAFACRBB   91.667999   0.0   2.0     1.0  \n",
            "681064  4.416123  ACBCBACQGC   35.212845   0.0   0.0     0.0  \n",
            "681065  0.546982  BAAACBEABF -320.721084   0.0   0.0     1.0  \n",
            "\n",
            "[584140 rows x 33 columns]\n"
          ]
        }
      ]
    },
    {
      "cell_type": "code",
      "source": [
        "trainDF.to_csv('assign.csv',index = False);"
      ],
      "metadata": {
        "id": "DJX-LTllv3WC"
      },
      "execution_count": null,
      "outputs": []
    }
  ]
}