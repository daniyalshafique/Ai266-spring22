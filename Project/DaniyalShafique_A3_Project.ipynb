{
  "cells": [
    {
      "cell_type": "code",
      "execution_count": null,
      "id": "309eb837",
      "metadata": {
        "id": "309eb837"
      },
      "outputs": [],
      "source": [
        "import pandas as pd\n",
        "from sklearn.metrics import accuracy_score # For Accuracy checking\n",
        "from sklearn.model_selection import train_test_split # Splitting Data For Train Test\n",
        "from sklearn.neighbors import KNeighborsClassifier # Apply  ML Algo KNN\n",
        "from sklearn import metrics\n",
        "from sklearn.naive_bayes import MultinomialNB # Apply Multinomial Naive Bayes Model\n",
        "from sklearn.model_selection import cross_val_score # Apply Cross Validation\n",
        "from sklearn.naive_bayes import BernoulliNB \n",
        "import warnings\n",
        "warnings.filterwarnings('ignore')"
      ]
    },
    {
      "cell_type": "code",
      "execution_count": null,
      "id": "3dd3b0c2",
      "metadata": {
        "id": "3dd3b0c2"
      },
      "outputs": [],
      "source": [
        "trainDF = pd.read_csv('/content/sample_data/train.csv')\n",
        "test = pd.read_csv('/content/sample_data/test.csv')"
      ]
    },
    {
      "cell_type": "code",
      "execution_count": null,
      "id": "e3d1c9a0",
      "metadata": {
        "id": "e3d1c9a0",
        "outputId": "6edd977d-1026-49cd-f556-9bfd9be6443e"
      },
      "outputs": [
        {
          "name": "stdout",
          "output_type": "stream",
          "text": [
            "   id      f_00      f_01      f_02      f_03      f_04      f_05      f_06  \\\n",
            "0   0 -1.373246  0.238887 -0.243376  0.567405 -0.647715  0.839326  0.113133   \n",
            "1   1  1.697021 -1.710322 -2.230332 -0.545661  1.113173 -1.552175  0.447825   \n",
            "2   2  1.681726  0.616746 -1.027689  0.810492 -0.609086  0.113965 -0.708660   \n",
            "3   3 -0.118172 -0.587835 -0.804638  2.086822  0.371005 -0.128831 -0.282575   \n",
            "4   4  1.148481 -0.176567 -0.664871 -1.101343  0.467875  0.500117  0.407515   \n",
            "\n",
            "   f_07  f_08  ...      f_22      f_23      f_24      f_25      f_26  \\\n",
            "0     1     5  ... -2.540739  0.766952 -2.730628 -0.208177  1.363402   \n",
            "1     1     3  ...  2.278315 -0.633658 -1.217077 -3.782194 -0.058316   \n",
            "2     1     0  ... -1.385775 -0.520558 -0.009121  2.788536 -3.703488   \n",
            "3     3     2  ...  0.572594 -1.653213  1.686035 -2.533098 -0.608601   \n",
            "4     3     3  ... -3.912929 -1.430366  2.127649 -3.306784  4.371371   \n",
            "\n",
            "         f_27        f_28  f_29  f_30  target  \n",
            "0  ABABDADBAB   67.609153     0     0       0  \n",
            "1  ACACCADCEB  377.096415     0     0       1  \n",
            "2  AAAEABCKAD -195.599702     0     2       1  \n",
            "3  BDBBAACBCB  210.826205     0     0       1  \n",
            "4  BDBCBBCHFE -217.211798     0     1       1  \n",
            "\n",
            "[5 rows x 33 columns]\n",
            "       id      f_00      f_01      f_02      f_03      f_04      f_05  \\\n",
            "0  900000  0.442517  0.174380 -0.999816  0.762741  0.186778 -1.074775   \n",
            "1  900001 -0.605598 -0.305715  0.627667 -0.578898 -1.750931  1.355550   \n",
            "2  900002  0.303990  2.445110  0.246515  0.818248  0.359731 -1.331845   \n",
            "3  900003  0.154053  0.260126 -1.367092 -0.093175 -1.111034 -0.948481   \n",
            "4  900004 -1.651904 -0.424266 -0.667356 -0.322124 -0.089462  0.181705   \n",
            "\n",
            "       f_06  f_07  f_08  ...      f_21      f_22      f_23      f_24  \\\n",
            "0  0.501888     6     6  ... -1.006400 -1.193879 -2.435736 -2.427430   \n",
            "1 -0.190911     1     3  ...  2.382405  0.149442  1.883322 -2.848714   \n",
            "2  1.358622     3     3  ... -7.026098  1.312277 -5.157192  1.714005   \n",
            "3  1.119220     0     0  ... -0.594532 -3.939475  1.754570 -2.364007   \n",
            "4  1.784983     2     2  ...  0.084906 -0.985736 -0.130467 -3.557893   \n",
            "\n",
            "       f_25      f_26        f_27        f_28  f_29  f_30  \n",
            "0 -1.966887  5.734205  BAAABADLAC   99.478419     0     0  \n",
            "1 -0.725155  3.194219  AFABBAEGCB  -65.993825     1     0  \n",
            "2  0.585032  0.066898  BBACABBKEE  -87.405622     0     1  \n",
            "3 -1.003320  3.893099  AEBEAACQCC -281.293460     0     0  \n",
            "4  1.210687  1.861884  AEBBBBDABF   25.629415     0     2  \n",
            "\n",
            "[5 rows x 32 columns]\n"
          ]
        }
      ],
      "source": [
        "print(trainDF.head())\n",
        "print(test.head())"
      ]
    },
    {
      "cell_type": "code",
      "execution_count": null,
      "id": "34a8ecfd",
      "metadata": {
        "id": "34a8ecfd",
        "outputId": "f9a01d4a-8826-4af2-94d2-b3ed0836ec4d"
      },
      "outputs": [
        {
          "name": "stdout",
          "output_type": "stream",
          "text": [
            "(900000, 33)\n",
            "(700000, 32)\n"
          ]
        }
      ],
      "source": [
        "print(trainDF.shape)\n",
        "print(test.shape)"
      ]
    },
    {
      "cell_type": "code",
      "execution_count": null,
      "id": "c7ceeddd",
      "metadata": {
        "id": "c7ceeddd"
      },
      "outputs": [],
      "source": [
        "del trainDF['id']\n",
        "del trainDF['f_27']\n",
        "\n",
        "# del_test['id']\n",
        "del test['f_27']"
      ]
    },
    {
      "cell_type": "code",
      "execution_count": null,
      "id": "88dac233",
      "metadata": {
        "id": "88dac233"
      },
      "outputs": [],
      "source": [
        "# Separate Target & Other Columns\n",
        "X = trainDF.drop(columns=['target'])\n",
        "y = trainDF['target']"
      ]
    },
    {
      "cell_type": "code",
      "execution_count": null,
      "id": "531791f8",
      "metadata": {
        "id": "531791f8"
      },
      "outputs": [],
      "source": [
        "X_train, X_test, y_train, y_test = train_test_split(X, y, test_size=0.3, random_state=42)"
      ]
    },
    {
      "cell_type": "code",
      "execution_count": null,
      "id": "b64c7a6a",
      "metadata": {
        "id": "b64c7a6a",
        "outputId": "d6ff1956-7649-43b5-883c-f2fc31a8e4be"
      },
      "outputs": [
        {
          "name": "stdout",
          "output_type": "stream",
          "text": [
            "(630000, 30)\n",
            "(270000, 30)\n",
            "(630000,)\n",
            "(270000,)\n"
          ]
        }
      ],
      "source": [
        "print(X_train.shape)\n",
        "print(X_test.shape)\n",
        "print(y_train.shape)\n",
        "print(y_test.shape)"
      ]
    },
    {
      "cell_type": "code",
      "execution_count": null,
      "id": "65761bb1",
      "metadata": {
        "id": "65761bb1",
        "outputId": "58ebf1bb-4b09-4489-f096-f364432f0e14"
      },
      "outputs": [
        {
          "name": "stdout",
          "output_type": "stream",
          "text": [
            "Naive Bayes Accuracy:  0.5810888888888889\n"
          ]
        }
      ],
      "source": [
        "bnbTesting = BernoulliNB() #Apply Classifier\n",
        "bnbTesting.fit(X_train, y_train) #Training by fitting into model\n",
        "bnbTestingPred = bnbTesting.predict(X_test) #Apply Prediction\n",
        "bnbAcc = metrics.accuracy_score(y_test, bnbTestingPred) #Checking Accuracy Score\n",
        "print (\"Naive Bayes Accuracy :  \", bnbAcc)"
      ]
    },
    {
      "cell_type": "code",
      "execution_count": null,
      "id": "cbc5c65d",
      "metadata": {
        "id": "cbc5c65d",
        "outputId": "68c0769a-1263-461a-8cb7-d85935b181d5"
      },
      "outputs": [
        {
          "name": "stdout",
          "output_type": "stream",
          "text": [
            "Naive Bayes Scores:  [0.58599048 0.58252381 0.58387619 0.58149524 0.5831619  0.58197143]\n",
            "Naive Bayes Mean Score:  0.5831698412698412\n"
          ]
        }
      ],
      "source": [
        "# NAIVE BAYES \n",
        "nav_clf = BernoulliNB()\n",
        "nav_scores = cross_val_score(nav_clf, X_train, y_train, cv=6)\n",
        "print('Naive Bayes Scores : ',nav_scores)\n",
        "nav_mean = nav_scores.mean()\n",
        "print('Naive Bayes Mean Score : ',nav_mean)"
      ]
    },
    {
      "cell_type": "code",
      "execution_count": null,
      "id": "44225ac9",
      "metadata": {
        "id": "44225ac9",
        "outputId": "fb790812-bd50-4ff0-f7ee-e2e8af53b7a1"
      },
      "outputs": [
        {
          "name": "stdout",
          "output_type": "stream",
          "text": [
            "Naive Bayes Accuracy:  0.6253814814814814\n"
          ]
        }
      ],
      "source": [
        "#  NAIVE BAYES (LAPLACE SMOOTHING)  \n",
        "\n",
        "from sklearn.naive_bayes import GaussianNB\n",
        "classifier = GaussianNB()\n",
        "classifier.fit(X_train, y_train)\n",
        "y_pred  =  classifier.predict(X_test)\n",
        "\n",
        "gnbAcc = metrics.accuracy_score(y_test, y_pred) # Checking Accuracy Score\n",
        "print (\"Naive Bayes Accuracy : \", gnbAcc)"
      ]
    },
    {
      "cell_type": "code",
      "execution_count": null,
      "id": "1ea3c578",
      "metadata": {
        "id": "1ea3c578",
        "outputId": "185b2986-30f0-48a4-9347-932e86dad86a"
      },
      "outputs": [
        {
          "name": "stdout",
          "output_type": "stream",
          "text": [
            "Naive Bayes Scores:  [0.62624762 0.62592381 0.62628571 0.62492381 0.62640952 0.62606667]\n",
            "Naive Bayes Mean Score:  0.6259761904761906\n"
          ]
        }
      ],
      "source": [
        "# NAIVE BAYES \n",
        "nav_clf = GaussianNB()\n",
        "nav_scores = cross_val_score(nav_clf, X_train, y_train, cv=6)\n",
        "print('Naive Bayes Scores : ',nav_scores)\n",
        "nav_mean = nav_scores.mean()\n",
        "print('Naive Bayes Mean Score : ',nav_mean)"
      ]
    },
    {
      "cell_type": "code",
      "execution_count": null,
      "id": "5ca8e57c",
      "metadata": {
        "id": "5ca8e57c",
        "outputId": "80e6c150-cd9b-4b0f-a95c-050289c91d89"
      },
      "outputs": [
        {
          "name": "stdout",
          "output_type": "stream",
          "text": [
            "(900000, 31)\n",
            "(700000, 31)\n"
          ]
        }
      ],
      "source": [
        "print(train.shape)\n",
        "print(test.shape)"
      ]
    },
    {
      "cell_type": "code",
      "execution_count": null,
      "id": "7fd0f191",
      "metadata": {
        "id": "7fd0f191"
      },
      "outputs": [],
      "source": [
        "daniyalCSV = test[['id']]"
      ]
    },
    {
      "cell_type": "code",
      "execution_count": null,
      "id": "09c479b9",
      "metadata": {
        "id": "09c479b9",
        "outputId": "80ae8efb-9fec-4a80-b93e-023503f06dd6"
      },
      "outputs": [
        {
          "data": {
            "text/html": [
              "<div>\n",
              "<style scoped>\n",
              "    .dataframe tbody tr th:only-of-type {\n",
              "        vertical-align: middle;\n",
              "    }\n",
              "\n",
              "    .dataframe tbody tr th {\n",
              "        vertical-align: top;\n",
              "    }\n",
              "\n",
              "    .dataframe thead th {\n",
              "        text-align: right;\n",
              "    }\n",
              "</style>\n",
              "<table border=\"1\" class=\"dataframe\">\n",
              "  <thead>\n",
              "    <tr style=\"text-align: right;\">\n",
              "      <th></th>\n",
              "      <th>id</th>\n",
              "    </tr>\n",
              "  </thead>\n",
              "  <tbody>\n",
              "    <tr>\n",
              "      <th>0</th>\n",
              "      <td>900000</td>\n",
              "    </tr>\n",
              "    <tr>\n",
              "      <th>1</th>\n",
              "      <td>900001</td>\n",
              "    </tr>\n",
              "    <tr>\n",
              "      <th>2</th>\n",
              "      <td>900002</td>\n",
              "    </tr>\n",
              "    <tr>\n",
              "      <th>3</th>\n",
              "      <td>900003</td>\n",
              "    </tr>\n",
              "    <tr>\n",
              "      <th>4</th>\n",
              "      <td>900004</td>\n",
              "    </tr>\n",
              "    <tr>\n",
              "      <th>...</th>\n",
              "      <td>...</td>\n",
              "    </tr>\n",
              "    <tr>\n",
              "      <th>699995</th>\n",
              "      <td>1599995</td>\n",
              "    </tr>\n",
              "    <tr>\n",
              "      <th>699996</th>\n",
              "      <td>1599996</td>\n",
              "    </tr>\n",
              "    <tr>\n",
              "      <th>699997</th>\n",
              "      <td>1599997</td>\n",
              "    </tr>\n",
              "    <tr>\n",
              "      <th>699998</th>\n",
              "      <td>1599998</td>\n",
              "    </tr>\n",
              "    <tr>\n",
              "      <th>699999</th>\n",
              "      <td>1599999</td>\n",
              "    </tr>\n",
              "  </tbody>\n",
              "</table>\n",
              "<p>700000 rows × 1 columns</p>\n",
              "</div>"
            ],
            "text/plain": [
              "             id\n",
              "0        900000\n",
              "1        900001\n",
              "2        900002\n",
              "3        900003\n",
              "4        900004\n",
              "...         ...\n",
              "699995  1599995\n",
              "699996  1599996\n",
              "699997  1599997\n",
              "699998  1599998\n",
              "699999  1599999\n",
              "\n",
              "[700000 rows x 1 columns]"
            ]
          },
          "execution_count": 72,
          "metadata": {},
          "output_type": "execute_result"
        }
      ],
      "source": [
        "daniyalCSV"
      ]
    },
    {
      "cell_type": "code",
      "execution_count": null,
      "id": "a9ac963d",
      "metadata": {
        "id": "a9ac963d"
      },
      "outputs": [],
      "source": [
        "predT = test.drop(columns=['id'])"
      ]
    },
    {
      "cell_type": "code",
      "execution_count": null,
      "id": "b80908f0",
      "metadata": {
        "id": "b80908f0",
        "outputId": "d333580d-9469-4e67-a5ef-d448acec1364"
      },
      "outputs": [
        {
          "data": {
            "text/html": [
              "<div>\n",
              "<style scoped>\n",
              "    .dataframe tbody tr th:only-of-type {\n",
              "        vertical-align: middle;\n",
              "    }\n",
              "\n",
              "    .dataframe tbody tr th {\n",
              "        vertical-align: top;\n",
              "    }\n",
              "\n",
              "    .dataframe thead th {\n",
              "        text-align: right;\n",
              "    }\n",
              "</style>\n",
              "<table border=\"1\" class=\"dataframe\">\n",
              "  <thead>\n",
              "    <tr style=\"text-align: right;\">\n",
              "      <th></th>\n",
              "      <th>f_00</th>\n",
              "      <th>f_01</th>\n",
              "      <th>f_02</th>\n",
              "      <th>f_03</th>\n",
              "      <th>f_04</th>\n",
              "      <th>f_05</th>\n",
              "      <th>f_06</th>\n",
              "      <th>f_07</th>\n",
              "      <th>f_08</th>\n",
              "      <th>f_09</th>\n",
              "      <th>...</th>\n",
              "      <th>f_20</th>\n",
              "      <th>f_21</th>\n",
              "      <th>f_22</th>\n",
              "      <th>f_23</th>\n",
              "      <th>f_24</th>\n",
              "      <th>f_25</th>\n",
              "      <th>f_26</th>\n",
              "      <th>f_28</th>\n",
              "      <th>f_29</th>\n",
              "      <th>f_30</th>\n",
              "    </tr>\n",
              "  </thead>\n",
              "  <tbody>\n",
              "    <tr>\n",
              "      <th>0</th>\n",
              "      <td>0.442517</td>\n",
              "      <td>0.174380</td>\n",
              "      <td>-0.999816</td>\n",
              "      <td>0.762741</td>\n",
              "      <td>0.186778</td>\n",
              "      <td>-1.074775</td>\n",
              "      <td>0.501888</td>\n",
              "      <td>6</td>\n",
              "      <td>6</td>\n",
              "      <td>0</td>\n",
              "      <td>...</td>\n",
              "      <td>2.749347</td>\n",
              "      <td>-1.006400</td>\n",
              "      <td>-1.193879</td>\n",
              "      <td>-2.435736</td>\n",
              "      <td>-2.427430</td>\n",
              "      <td>-1.966887</td>\n",
              "      <td>5.734205</td>\n",
              "      <td>99.478419</td>\n",
              "      <td>0</td>\n",
              "      <td>0</td>\n",
              "    </tr>\n",
              "    <tr>\n",
              "      <th>1</th>\n",
              "      <td>-0.605598</td>\n",
              "      <td>-0.305715</td>\n",
              "      <td>0.627667</td>\n",
              "      <td>-0.578898</td>\n",
              "      <td>-1.750931</td>\n",
              "      <td>1.355550</td>\n",
              "      <td>-0.190911</td>\n",
              "      <td>1</td>\n",
              "      <td>3</td>\n",
              "      <td>4</td>\n",
              "      <td>...</td>\n",
              "      <td>1.080762</td>\n",
              "      <td>2.382405</td>\n",
              "      <td>0.149442</td>\n",
              "      <td>1.883322</td>\n",
              "      <td>-2.848714</td>\n",
              "      <td>-0.725155</td>\n",
              "      <td>3.194219</td>\n",
              "      <td>-65.993825</td>\n",
              "      <td>1</td>\n",
              "      <td>0</td>\n",
              "    </tr>\n",
              "  </tbody>\n",
              "</table>\n",
              "<p>2 rows × 30 columns</p>\n",
              "</div>"
            ],
            "text/plain": [
              "       f_00      f_01      f_02      f_03      f_04      f_05      f_06  f_07  \\\n",
              "0  0.442517  0.174380 -0.999816  0.762741  0.186778 -1.074775  0.501888     6   \n",
              "1 -0.605598 -0.305715  0.627667 -0.578898 -1.750931  1.355550 -0.190911     1   \n",
              "\n",
              "   f_08  f_09  ...      f_20      f_21      f_22      f_23      f_24  \\\n",
              "0     6     0  ...  2.749347 -1.006400 -1.193879 -2.435736 -2.427430   \n",
              "1     3     4  ...  1.080762  2.382405  0.149442  1.883322 -2.848714   \n",
              "\n",
              "       f_25      f_26       f_28  f_29  f_30  \n",
              "0 -1.966887  5.734205  99.478419     0     0  \n",
              "1 -0.725155  3.194219 -65.993825     1     0  \n",
              "\n",
              "[2 rows x 30 columns]"
            ]
          },
          "execution_count": 74,
          "metadata": {},
          "output_type": "execute_result"
        }
      ],
      "source": [
        "predT.head(2)"
      ]
    },
    {
      "cell_type": "code",
      "execution_count": null,
      "id": "56327c57",
      "metadata": {
        "id": "56327c57"
      },
      "outputs": [],
      "source": [
        "predictionOnTest = classifier.predict(predT)"
      ]
    },
    {
      "cell_type": "code",
      "execution_count": null,
      "id": "0f8091ec",
      "metadata": {
        "id": "0f8091ec",
        "outputId": "4d2eceaf-e5ee-4321-8851-bb884b8a409f"
      },
      "outputs": [
        {
          "name": "stdout",
          "output_type": "stream",
          "text": [
            "[0 1 1 ... 0 0 0]\n",
            "700000\n"
          ]
        }
      ],
      "source": [
        "print(predictionOnTest)\n",
        "print(len(predictionOnTest))"
      ]
    },
    {
      "cell_type": "code",
      "execution_count": null,
      "id": "1ab01469",
      "metadata": {
        "id": "1ab01469"
      },
      "outputs": [],
      "source": [
        "daniyalCSV['target'] = predictionOnTest"
      ]
    },
    {
      "cell_type": "code",
      "execution_count": null,
      "id": "286515f7",
      "metadata": {
        "id": "286515f7",
        "outputId": "aff55bea-52a1-4c15-cb3a-a0ee08082e3e"
      },
      "outputs": [
        {
          "data": {
            "text/html": [
              "<div>\n",
              "<style scoped>\n",
              "    .dataframe tbody tr th:only-of-type {\n",
              "        vertical-align: middle;\n",
              "    }\n",
              "\n",
              "    .dataframe tbody tr th {\n",
              "        vertical-align: top;\n",
              "    }\n",
              "\n",
              "    .dataframe thead th {\n",
              "        text-align: right;\n",
              "    }\n",
              "</style>\n",
              "<table border=\"1\" class=\"dataframe\">\n",
              "  <thead>\n",
              "    <tr style=\"text-align: right;\">\n",
              "      <th></th>\n",
              "      <th>id</th>\n",
              "      <th>target</th>\n",
              "    </tr>\n",
              "  </thead>\n",
              "  <tbody>\n",
              "    <tr>\n",
              "      <th>0</th>\n",
              "      <td>900000</td>\n",
              "      <td>0</td>\n",
              "    </tr>\n",
              "    <tr>\n",
              "      <th>1</th>\n",
              "      <td>900001</td>\n",
              "      <td>1</td>\n",
              "    </tr>\n",
              "    <tr>\n",
              "      <th>2</th>\n",
              "      <td>900002</td>\n",
              "      <td>1</td>\n",
              "    </tr>\n",
              "    <tr>\n",
              "      <th>3</th>\n",
              "      <td>900003</td>\n",
              "      <td>0</td>\n",
              "    </tr>\n",
              "    <tr>\n",
              "      <th>4</th>\n",
              "      <td>900004</td>\n",
              "      <td>0</td>\n",
              "    </tr>\n",
              "  </tbody>\n",
              "</table>\n",
              "</div>"
            ],
            "text/plain": [
              "       id  target\n",
              "0  900000       0\n",
              "1  900001       1\n",
              "2  900002       1\n",
              "3  900003       0\n",
              "4  900004       0"
            ]
          },
          "execution_count": 78,
          "metadata": {},
          "output_type": "execute_result"
        }
      ],
      "source": [
        "daniyalCSV.head()"
      ]
    },
    {
      "cell_type": "code",
      "execution_count": null,
      "id": "e70eb3e3",
      "metadata": {
        "id": "e70eb3e3",
        "outputId": "356d4907-5bea-453c-820c-3a84b95d251f"
      },
      "outputs": [
        {
          "data": {
            "text/plain": [
              "(700000, 2)"
            ]
          },
          "execution_count": 79,
          "metadata": {},
          "output_type": "execute_result"
        }
      ],
      "source": [
        "daniyalCSV.shape"
      ]
    },
    {
      "cell_type": "code",
      "execution_count": null,
      "id": "09c2c07e",
      "metadata": {
        "id": "09c2c07e"
      },
      "outputs": [],
      "source": [
        "daniyalCSV.to_csv('daniyalCSVTest.csv', index=False)"
      ]
    }
  ],
  "metadata": {
    "kernelspec": {
      "display_name": "Python 3",
      "language": "python",
      "name": "python3"
    },
    "language_info": {
      "codemirror_mode": {
        "name": "ipython",
        "version": 3
      },
      "file_extension": ".py",
      "mimetype": "text/x-python",
      "name": "python",
      "nbconvert_exporter": "python",
      "pygments_lexer": "ipython3",
      "version": "3.8.8"
    },
    "colab": {
      "name": "DaniyalShafique_A3_Project.ipynb",
      "provenance": [],
      "collapsed_sections": []
    }
  },
  "nbformat": 4,
  "nbformat_minor": 5
}